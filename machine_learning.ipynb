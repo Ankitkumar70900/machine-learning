{
  "nbformat": 4,
  "nbformat_minor": 0,
  "metadata": {
    "colab": {
      "provenance": []
    },
    "kernelspec": {
      "name": "python3",
      "display_name": "Python 3"
    },
    "language_info": {
      "name": "python"
    }
  },
  "cells": [
    {
      "cell_type": "code",
      "execution_count": 1,
      "metadata": {
        "colab": {
          "base_uri": "https://localhost:8080/",
          "height": 53
        },
        "id": "twDSQBFk3kSo",
        "outputId": "59fa261b-627c-48b8-8861-9ed06e6ab47f"
      },
      "outputs": [
        {
          "output_type": "execute_result",
          "data": {
            "text/plain": [
              "'AI is a broad field enabling machines to mimic human intelligence.\\nML is a subset of AI, where systems learn from data.\\nDL is a subset of ML using deep neural networks for complex data.\\nData Science uses AI/ML/DL with statistics to extract insights from data.'"
            ],
            "application/vnd.google.colaboratory.intrinsic+json": {
              "type": "string"
            }
          },
          "metadata": {},
          "execution_count": 1
        }
      ],
      "source": [
        "#Question 1: Explain the differences between AI, ML, Deep Learning (DL), and DataScience (DS).\n",
        "'''AI is a broad field enabling machines to mimic human intelligence.\n",
        "ML is a subset of AI, where systems learn from data.\n",
        "DL is a subset of ML using deep neural networks for complex data.\n",
        "Data Science uses AI/ML/DL with statistics to extract insights from data.'''"
      ]
    },
    {
      "cell_type": "code",
      "source": [
        "#Question 2: What are the types of machine learning? Describe each with one real-world example.\n",
        "'''The main types of machine learning are:\n",
        "\n",
        "Supervised Learning: Learns from labeled data.\n",
        "Example: Email spam detection.\n",
        "\n",
        "Unsupervised Learning: Finds patterns in unlabeled data.\n",
        "Example: Customer segmentation.\n",
        "\n",
        "Reinforcement Learning: Learns by trial and error to maximize reward.\n",
        "Example: Self-driving cars.'''"
      ],
      "metadata": {
        "colab": {
          "base_uri": "https://localhost:8080/",
          "height": 53
        },
        "id": "df35S29j399R",
        "outputId": "5bd86ed8-be59-4129-8e32-02a81482ea6e"
      },
      "execution_count": 2,
      "outputs": [
        {
          "output_type": "execute_result",
          "data": {
            "text/plain": [
              "'The main types of machine learning are:\\n\\nSupervised Learning: Learns from labeled data.\\nExample: Email spam detection.\\n\\nUnsupervised Learning: Finds patterns in unlabeled data.\\nExample: Customer segmentation.\\n\\nReinforcement Learning: Learns by trial and error to maximize reward.\\nExample: Self-driving cars.'"
            ],
            "application/vnd.google.colaboratory.intrinsic+json": {
              "type": "string"
            }
          },
          "metadata": {},
          "execution_count": 2
        }
      ]
    },
    {
      "cell_type": "code",
      "source": [
        "#Question 3: Define overfitting, underfitting, and the bias-variance tradeoff in machine learning.\n",
        "'''Overfitting happens when a model learns the training data too well, including noise, and does not generalize to new data—resulting in high accuracy on training data and poor performance on unseen data.\n",
        "\n",
        "Underfitting means the model is too simple to capture the underlying patterns in the data, leading to poor prediction accuracy for both training and new data.\n",
        "\n",
        "Bias-Variance Tradeoff is the balance between a model’s ability to fit training data (low bias) and its tendency to be sensitive to small changes in data (high variance); the goal is a compromise to achieve good generalization.'''"
      ],
      "metadata": {
        "colab": {
          "base_uri": "https://localhost:8080/",
          "height": 88
        },
        "id": "LZWWUWN84Vao",
        "outputId": "34a126fb-a329-41d0-a5e7-8d2deae47008"
      },
      "execution_count": 3,
      "outputs": [
        {
          "output_type": "execute_result",
          "data": {
            "text/plain": [
              "'Overfitting happens when a model learns the training data too well, including noise, and does not generalize to new data—resulting in high accuracy on training data and poor performance on unseen data.\\n\\nUnderfitting means the model is too simple to capture the underlying patterns in the data, leading to poor prediction accuracy for both training and new data.\\n\\nBias-Variance Tradeoff is the balance between a model’s ability to fit training data (low bias) and its tendency to be sensitive to small changes in data (high variance); the goal is a compromise to achieve good generalization.'"
            ],
            "application/vnd.google.colaboratory.intrinsic+json": {
              "type": "string"
            }
          },
          "metadata": {},
          "execution_count": 3
        }
      ]
    },
    {
      "cell_type": "markdown",
      "source": [],
      "metadata": {
        "id": "AqVRs1qd4voF"
      }
    },
    {
      "cell_type": "code",
      "source": [
        "#Question 4: What are outliers in a dataset, and list three common techniques for handling them.\n",
        "'''Outliers are data points that deviate significantly from the majority in a dataset—they may be unusually high or low values that can distort analysis.\n",
        "\n",
        "Three common techniques for handling outliers:\n",
        "\n",
        "Removal: Exclude outliers from the dataset to reduce distortion.\n",
        "\n",
        "Transformation: Apply scaling, log transformation, or winsorization to reduce outlier impact.\n",
        "\n",
        "Robust Estimation: Use algorithms less sensitive to outliers, like robust regression or DBSCAN'''"
      ],
      "metadata": {
        "colab": {
          "base_uri": "https://localhost:8080/",
          "height": 70
        },
        "id": "6iLap7oB4j41",
        "outputId": "b2bc2836-6a36-4679-82aa-c6e771cfd9ed"
      },
      "execution_count": 4,
      "outputs": [
        {
          "output_type": "execute_result",
          "data": {
            "text/plain": [
              "'Outliers are data points that deviate significantly from the majority in a dataset—they may be unusually high or low values that can distort analysis.\\n\\nThree common techniques for handling outliers:\\n\\nRemoval: Exclude outliers from the dataset to reduce distortion.\\n\\nTransformation: Apply scaling, log transformation, or winsorization to reduce outlier impact.\\n\\nRobust Estimation: Use algorithms less sensitive to outliers, like robust regression or DBSCAN'"
            ],
            "application/vnd.google.colaboratory.intrinsic+json": {
              "type": "string"
            }
          },
          "metadata": {},
          "execution_count": 4
        }
      ]
    },
    {
      "cell_type": "code",
      "source": [
        "#Question 5: Explain the process of handling missing values and mention one\n",
        "#imputation technique for numerical and one for categorical data.\n",
        "'''Handling missing values involves identifying and addressing gaps in data to maintain accuracy. Common steps include detecting missing data, analyzing patterns, and deciding on a treatment method such as deletion or imputation.\n",
        "\n",
        "Numerical imputation technique: Mean imputation replaces missing numbers with the average value of that feature.\n",
        "\n",
        "Categorical imputation technique: Mode imputation replaces missing categories with the most frequent category in the data.\n",
        "\n",
        "'''\n"
      ],
      "metadata": {
        "colab": {
          "base_uri": "https://localhost:8080/",
          "height": 70
        },
        "id": "yF4E2J6y42Vw",
        "outputId": "09c03790-8058-4019-948d-0b5b7fa506eb"
      },
      "execution_count": 5,
      "outputs": [
        {
          "output_type": "execute_result",
          "data": {
            "text/plain": [
              "'Handling missing values involves identifying and addressing gaps in data to maintain accuracy. Common steps include detecting missing data, analyzing patterns, and deciding on a treatment method such as deletion or imputation.\\n\\nNumerical imputation technique: Mean imputation replaces missing numbers with the average value of that feature.\\n\\nCategorical imputation technique: Mode imputation replaces missing categories with the most frequent category in the data.\\n\\n'"
            ],
            "application/vnd.google.colaboratory.intrinsic+json": {
              "type": "string"
            }
          },
          "metadata": {},
          "execution_count": 5
        }
      ]
    },
    {
      "cell_type": "code",
      "source": [
        "'''Question 6: Write a Python program that:\n",
        "● Creates a synthetic imbalanced dataset with make_classification() from\n",
        "sklearn.datasets.\n",
        "● Prints the class distribution.\n",
        "'''\n",
        "from sklearn.datasets import make_classification\n",
        "from collections import Counter\n",
        "\n",
        "# Create synthetic imbalanced dataset\n",
        "X, y = make_classification(n_samples=1000, n_features=10, n_classes=2,\n",
        "                           n_clusters_per_class=1, weights=[0.9, 0.1],\n",
        "                           flip_y=0, random_state=42)\n",
        "\n",
        "# Print class distribution\n",
        "print(\"Class distribution:\", Counter(y))\n"
      ],
      "metadata": {
        "colab": {
          "base_uri": "https://localhost:8080/"
        },
        "id": "bb9bwV4W5C2k",
        "outputId": "fb7054a3-101c-4374-d61f-a2db70135678"
      },
      "execution_count": 6,
      "outputs": [
        {
          "output_type": "stream",
          "name": "stdout",
          "text": [
            "Class distribution: Counter({np.int64(0): 900, np.int64(1): 100})\n"
          ]
        }
      ]
    },
    {
      "cell_type": "code",
      "source": [
        "'''Question 7: Implement one-hot encoding using pandas for the following list of colors:\n",
        "['Red', 'Green', 'Blue', 'Green', 'Red']. Print the resulting dataframe.'''\n",
        "import pandas as pd\n",
        "\n",
        "colors = ['Red', 'Green', 'Blue', 'Green', 'Red']\n",
        "\n",
        "# Create DataFrame\n",
        "df = pd.DataFrame({'Color': colors})\n",
        "\n",
        "# One-hot encode the 'Color' column\n",
        "one_hot_df = pd.get_dummies(df, columns=['Color'])\n",
        "\n",
        "print(one_hot_df)\n"
      ],
      "metadata": {
        "colab": {
          "base_uri": "https://localhost:8080/"
        },
        "id": "TduzKCO_5Roq",
        "outputId": "80fd574c-4db2-455c-97e4-9fc3d8e505e0"
      },
      "execution_count": 7,
      "outputs": [
        {
          "output_type": "stream",
          "name": "stdout",
          "text": [
            "   Color_Blue  Color_Green  Color_Red\n",
            "0       False        False       True\n",
            "1       False         True      False\n",
            "2        True        False      False\n",
            "3       False         True      False\n",
            "4       False        False       True\n"
          ]
        }
      ]
    },
    {
      "cell_type": "code",
      "source": [
        "'''Question 8: Write a Python script to:\n",
        "● Generate 1000 samples from a normal distribution.\n",
        "● Introduce 50 random missing values.\n",
        "● Fill missing values with the column mean.\n",
        "● Plot a histogram before and after imputation.\n",
        "'''\n",
        "import numpy as np\n",
        "import pandas as pd\n",
        "import matplotlib.pyplot as plt\n",
        "\n",
        "# Generate 1000 samples from normal distribution\n",
        "np.random.seed(42)\n",
        "data = np.random.randn(1000)\n",
        "\n",
        "# Create DataFrame\n",
        "df = pd.DataFrame({'values': data})\n",
        "\n",
        "# Introduce 50 random missing values\n",
        "missing_indices = np.random.choice(df.index, 50, replace=False)\n",
        "df.loc[missing_indices, 'values'] = np.nan\n",
        "\n",
        "# Plot histogram before imputation\n",
        "plt.figure(figsize=(12, 5))\n",
        "plt.subplot(1, 2, 1)\n",
        "plt.hist(df['values'].dropna(), bins=30, color='skyblue', edgecolor='black')\n",
        "plt.title('Histogram Before Imputation')\n",
        "\n",
        "# Fill missing values with column mean\n"
      ],
      "metadata": {
        "colab": {
          "base_uri": "https://localhost:8080/",
          "height": 485
        },
        "id": "tDxbFgjz5cIa",
        "outputId": "63a8961b-0730-45b6-faf1-26205dacf47c"
      },
      "execution_count": 8,
      "outputs": [
        {
          "output_type": "execute_result",
          "data": {
            "text/plain": [
              "Text(0.5, 1.0, 'Histogram Before Imputation')"
            ]
          },
          "metadata": {},
          "execution_count": 8
        },
        {
          "output_type": "display_data",
          "data": {
            "text/plain": [
              "<Figure size 1200x500 with 1 Axes>"
            ],
            "image/png": "[encoded data removed]"
          },
          "metadata": {}
        }
      ]
    },
    {
      "cell_type": "code",
      "source": [
        "'''Question 9: Implement Min-Max scaling on the following list of numbers [2, 5, 10, 15,\n",
        "20] using sklearn.preprocessing.MinMaxScaler. Print the scaled array.\n",
        "'''\n",
        "from sklearn.preprocessing import MinMaxScaler\n",
        "import numpy as np\n",
        "\n",
        "data = np.array([[2], [5], [10], [15], [20]])\n",
        "\n",
        "scaler = MinMaxScaler()\n",
        "scaled_data = scaler.fit_transform(data)\n",
        "\n",
        "print(scaled_data.flatten())\n"
      ],
      "metadata": {
        "colab": {
          "base_uri": "https://localhost:8080/"
        },
        "id": "DkTLjK085mmg",
        "outputId": "320d05ca-b98a-4cb6-cd3b-0b74db35fbe2"
      },
      "execution_count": 9,
      "outputs": [
        {
          "output_type": "stream",
          "name": "stdout",
          "text": [
            "[0.         0.16666667 0.44444444 0.72222222 1.        ]\n"
          ]
        }
      ]
    },
    {
      "cell_type": "code",
      "source": [
        "'''Question 10: You are working as a data scientist for a retail company. You receive a customer\n",
        "transaction dataset that contains:\n",
        "● Missing ages,\n",
        "● Outliers in transaction amount,\n",
        "● A highly imbalanced target (fraud vs. non-fraud),\n",
        "● Categorical variables like payment method.\n",
        "Explain the step-by-step data preparation plan you’d follow before training a machine learning\n",
        "model. Include how you’d address missing data, outliers, imbalance, and encoding.'''\n",
        "\n",
        "\n",
        "'''Here is a step-by-step data preparation plan for the retail customer transaction dataset:\n",
        "\n",
        "Handling Missing Ages:\n",
        "\n",
        "Analyze the pattern of missing ages.\n",
        "\n",
        "Impute missing values using the median age or predictive imputation methods to avoid bias.\n",
        "\n",
        "Handling Outliers in Transaction Amount:\n",
        "\n",
        "Detect outliers using techniques like IQR or Z-score.\n",
        "\n",
        "Either remove outliers if they are errors or cap (winsorize) them to reduce their effect.\n",
        "\n",
        "Addressing Imbalanced Target (Fraud vs Non-fraud):\n",
        "\n",
        "Use resampling techniques like SMOTE (Synthetic Minority Oversampling Technique) to balance classes.\n",
        "\n",
        "Alternatively, use class-weighted algorithms to give more importance to minority class.\n",
        "\n",
        "Encoding Categorical Variables (e.g., Payment Method):\n",
        "\n",
        "Use one-hot encoding if categorical variables are nominal with no order.\n",
        "\n",
        "Use ordinal encoding if categories have natural ordering.\n",
        "\n",
        "Additional Steps:\n",
        "\n",
        "Scale numerical features using StandardScaler or MinMaxScaler.\n",
        "\n",
        "Split data into train and test sets maintaining class distribution using stratified sampling.\n",
        "\n",
        "This preparation ensures a clean, balanced, and machine-readable dataset for effective model training.'''"
      ],
      "metadata": {
        "colab": {
          "base_uri": "https://localhost:8080/",
          "height": 123
        },
        "id": "pEy_KXJX5zo_",
        "outputId": "b667270d-0c16-4f83-869a-0cc7f07d94ce"
      },
      "execution_count": 10,
      "outputs": [
        {
          "output_type": "execute_result",
          "data": {
            "text/plain": [
              "'Here is a step-by-step data preparation plan for the retail customer transaction dataset:\\n\\nHandling Missing Ages:\\n\\nAnalyze the pattern of missing ages.\\n\\nImpute missing values using the median age or predictive imputation methods to avoid bias.\\n\\nHandling Outliers in Transaction Amount:\\n\\nDetect outliers using techniques like IQR or Z-score.\\n\\nEither remove outliers if they are errors or cap (winsorize) them to reduce their effect.\\n\\nAddressing Imbalanced Target (Fraud vs Non-fraud):\\n\\nUse resampling techniques like SMOTE (Synthetic Minority Oversampling Technique) to balance classes.\\n\\nAlternatively, use class-weighted algorithms to give more importance to minority class.\\n\\nEncoding Categorical Variables (e.g., Payment Method):\\n\\nUse one-hot encoding if categorical variables are nominal with no order.\\n\\nUse ordinal encoding if categories have natural ordering.\\n\\nAdditional Steps:\\n\\nScale numerical features using StandardScaler or MinMaxScaler.\\n\\nSplit data into train and test sets maintaining class distribution using stratified sampling.\\n\\nThis preparation ensures a clean, balanced, and machine-readable dataset for effective model training.'"
            ],
            "application/vnd.google.colaboratory.intrinsic+json": {
              "type": "string"
            }
          },
          "metadata": {},
          "execution_count": 10
        }
      ]
    },
    {
      "cell_type": "code",
      "source": [],
      "metadata": {
        "id": "C-8xqON26Ka0"
      },
      "execution_count": null,
      "outputs": []
    }
  ]
}